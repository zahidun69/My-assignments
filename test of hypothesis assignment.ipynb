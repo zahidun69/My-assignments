{
 "cells": [
  {
   "cell_type": "code",
   "execution_count": null,
   "id": "00082442-f49f-4fe8-8c9a-0f8f78b35890",
   "metadata": {},
   "outputs": [],
   "source": [
    "'''1. Hypotheses Statement:\n",
    "Null Hypothesis(H0): The theoretical weekly operating cost model is accurate. \n",
    "There is no significant difference between the actual mean weekly cost and the predicted cost produced.\n",
    "\n",
    "Alternative Hypothesis (Ha): The theoretical weekly operating cost model is not accurate. \n",
    "The actual mean weekly cost is significantly higher than the predicted cost produced.'''"
   ]
  },
  {
   "cell_type": "code",
   "execution_count": 3,
   "id": "06b4bace-7798-4c08-a822-7a0e680c9cf8",
   "metadata": {},
   "outputs": [],
   "source": [
    "#2.calculating the test statistics\n",
    "import scipy.stats as stats\n",
    "import numpy as np\n"
   ]
  },
  {
   "cell_type": "code",
   "execution_count": 4,
   "id": "7c73c407-24dd-4aef-ac1f-3afbce342ffe",
   "metadata": {},
   "outputs": [],
   "source": [
    "#declaring variables which are neccessary for calculations\n",
    "exchange_rate = 75  # Rupees per Dollar\n",
    "sample_mean = 3050  # Weekly cost in Rupees\n",
    "num_units = 600  # Average number of units produced\n",
    "cost_per_unit = 5  # Cost per unit from the model\n",
    "fixed_cost = 1000  # Fixed cost from the model\n",
    "sample_size = 25  # Number of restaurants\n",
    "alpha = 0.05  # Significance level\n"
   ]
  },
  {
   "cell_type": "code",
   "execution_count": 5,
   "id": "31ae73b8-cc5a-410c-9a64-178158753fad",
   "metadata": {},
   "outputs": [],
   "source": [
    "# Convert sample mean to Dollars\n",
    "sample_mean_usd = sample_mean / exchange_rate\n",
    "\n",
    "# Calculate theoretical mean cost\n",
    "theoretical_mean = fixed_cost + (cost_per_unit * num_units)\n",
    "\n",
    "# Standard error of the mean\n",
    "standard_error = (5 * 25) / np.sqrt(sample_size)\n",
    "\n",
    "# Calculate test statistic (t-statistic)\n",
    "t_statistic = (sample_mean_usd - theoretical_mean) / standard_error\n",
    "\n",
    "# Degrees of freedom\n",
    "degrees_of_freedom = sample_size - 1\n",
    "\n",
    "# Find critical value (two-tailed test)\n",
    "critical_value = stats.norm.ppf(1 - alpha / 2, loc=0, scale=1) \n",
    "\n"
   ]
  },
  {
   "cell_type": "code",
   "execution_count": 6,
   "id": "8566f6cf-2974-4d43-9b6d-0fda2f3fc00d",
   "metadata": {},
   "outputs": [
    {
     "name": "stdout",
     "output_type": "stream",
     "text": [
      "Sample mean (USD): 40.666666666666664\n",
      "Theoretical mean (USD): 4000\n",
      "Test statistic (t): -158.37333333333333\n",
      "Degrees of freedom: 24\n",
      "Critical value (alpha = 0.05 ): 1.959963984540054\n"
     ]
    }
   ],
   "source": [
    "#printing results of all above calculations\n",
    "print(\"Sample mean (USD):\", sample_mean_usd)\n",
    "print(\"Theoretical mean (USD):\", theoretical_mean)\n",
    "print(\"Test statistic (t):\", t_statistic)\n",
    "print(\"Degrees of freedom:\", degrees_of_freedom)\n",
    "print(\"Critical value (alpha =\", alpha, \"):\", critical_value)\n"
   ]
  },
  {
   "cell_type": "code",
   "execution_count": 7,
   "id": "70bf3afe-b42e-45f3-876b-72897c4a5e22",
   "metadata": {},
   "outputs": [
    {
     "name": "stdout",
     "output_type": "stream",
     "text": [
      "Reject null hypothesis (H0).\n",
      "The actual cost is significantly different from the theoretical model.\n"
     ]
    }
   ],
   "source": [
    "# It is one-tailed test,so absolute value of t is used to make decision\n",
    "if abs(t_statistic) > critical_value:\n",
    "  print(\"Reject null hypothesis (H0).\")\n",
    "  print(\"The actual cost is significantly different from the theoretical model.\")\n",
    "else:\n",
    "  print(\"Fail to reject null hypothesis (H0).\")\n",
    "  print(\"There might not be enough evidence to conclude a difference.\")"
   ]
  },
  {
   "cell_type": "code",
   "execution_count": null,
   "id": "6e9827d7-f1ff-42c1-b5d6-9fd0e5a622e2",
   "metadata": {},
   "outputs": [],
   "source": [
    "'''Inference:\n",
    "we have significant evidence to prove that the actual cost is significantly different from the theoretical model.'''\n",
    "\n",
    "'''conclusion:\n",
    "we conclude from the analysis that the actual cost model may not be accurate,as their is difference\n",
    "from the theoritical model to weekly operating costs.hence,it is better that Bombay Hospitality Ltd. investigate the reasons behind the cost increase.\n",
    "They may need to revise the cost model to better reflect the current situation and ensure accurate cost estimations for future.'''\n"
   ]
  }
 ],
 "metadata": {
  "kernelspec": {
   "display_name": "Python 3 (ipykernel)",
   "language": "python",
   "name": "python3"
  },
  "language_info": {
   "codemirror_mode": {
    "name": "ipython",
    "version": 3
   },
   "file_extension": ".py",
   "mimetype": "text/x-python",
   "name": "python",
   "nbconvert_exporter": "python",
   "pygments_lexer": "ipython3",
   "version": "3.11.7"
  }
 },
 "nbformat": 4,
 "nbformat_minor": 5
}

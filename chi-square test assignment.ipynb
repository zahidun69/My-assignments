{
 "cells": [
  {
   "cell_type": "code",
   "execution_count": null,
   "id": "7410fb10-7a4c-43bb-b925-ae5d9ef51b39",
   "metadata": {},
   "outputs": [],
   "source": [
    "#State the Null and Alternative Hypotheses:\n",
    "#Null Hypothesis (H₀): There is no significant association between the Smart Thermostat,Smart Lights and the customer satisfaction level.\n",
    "#Alternative Hypothesis (H₁): There is a significant association between the type of smart home device purchased and the customer satisfaction level.\n"
   ]
  },
  {
   "cell_type": "code",
   "execution_count": 2,
   "id": "a1a6d918-4c51-4a71-8bbe-0a3e44cb3f2c",
   "metadata": {},
   "outputs": [],
   "source": [
    "#importing stats module from scipy\n",
    "from scipy import stats"
   ]
  },
  {
   "cell_type": "code",
   "execution_count": 3,
   "id": "19ae0aaa-e750-4775-ba5e-359a3594a1ee",
   "metadata": {},
   "outputs": [
    {
     "data": {
      "text/plain": [
       "[[50, 70], [80, 100], [60, 90], [30, 50], [20, 50]]"
      ]
     },
     "execution_count": 3,
     "metadata": {},
     "output_type": "execute_result"
    }
   ],
   "source": [
    "#declaring nested list of the contingency table\n",
    "data=[[50, 70],  # Very Satisfied\n",
    "        [80, 100],  # Satisfied\n",
    "        [60, 90],   # Neutral\n",
    "        [30, 50],   # Unsatisfied\n",
    "        [20, 50]]  # Very Unsatisfied\n",
    "data\n"
   ]
  },
  {
   "cell_type": "code",
   "execution_count": 15,
   "id": "0d41e346-9f53-4491-888b-cbb712c15f64",
   "metadata": {},
   "outputs": [
    {
     "name": "stdout",
     "output_type": "stream",
     "text": [
      "Chi-Square Statistic: 5.638227513227513\n",
      "p-value: 0.22784371130697179\n",
      "Degrees of Freedom: 4\n",
      "Expected Frequencies:\n",
      " [[ 48.  72.]\n",
      " [ 72. 108.]\n",
      " [ 60.  90.]\n",
      " [ 32.  48.]\n",
      " [ 28.  42.]]\n"
     ]
    }
   ],
   "source": [
    "#calculating chi_square statistics,p_value,degree of freedom and expected frequency.\n",
    "chi2_statistic, pval, degrees_of_freedom, expected_frequencies = stats.chi2_contingency(data)\n",
    "\n",
    "# Printing the results\n",
    "print(\"Chi-Square Statistic:\",chi2_statistic)\n",
    "print(\"p-value:\", pval)\n",
    "print(\"Degrees of Freedom:\", degrees_of_freedom)\n",
    "print(\"Expected Frequencies:\\n\", expected_frequencies)\n",
    "\n"
   ]
  },
  {
   "cell_type": "code",
   "execution_count": 16,
   "id": "4984757e-3523-41bd-a50f-aa20348493be",
   "metadata": {},
   "outputs": [
    {
     "name": "stdout",
     "output_type": "stream",
     "text": [
      "Fail to reject null hypothesis. No evidence of significant association found.\n"
     ]
    }
   ],
   "source": [
    "# Hypothesis test interpretation (adjust alpha level as needed)\n",
    "alpha = 0.05\n",
    "if pval < alpha:\n",
    "  print(\"Reject null hypothesis. There's a significant association between device type and satisfaction level.\")\n",
    "else:\n",
    "  print(\"Fail to reject null hypothesis. No evidence of significant association found.\")\n"
   ]
  },
  {
   "cell_type": "code",
   "execution_count": null,
   "id": "a6a151a0-6653-4d82-b1bb-d76fc484502a",
   "metadata": {},
   "outputs": [],
   "source": [
    "'''inference: here,we don't have significant evidence to say that there's a significant association\n",
    "between the type of device purchased and the customer's satisfaction level'''\n",
    "\n",
    "'''conclusion:\n",
    "From the result we conclude that no significatant association between the types of devices purchased and the customer's satisfaction level.\n",
    "so in absence of a strong association between device type and satisfaction,\n",
    "Their might be more productive to investigate on other factors which could influence customer's satisfaction, \n",
    "such as customer support experience or make aware of product features.'''"
   ]
  }
 ],
 "metadata": {
  "kernelspec": {
   "display_name": "Python 3 (ipykernel)",
   "language": "python",
   "name": "python3"
  },
  "language_info": {
   "codemirror_mode": {
    "name": "ipython",
    "version": 3
   },
   "file_extension": ".py",
   "mimetype": "text/x-python",
   "name": "python",
   "nbconvert_exporter": "python",
   "pygments_lexer": "ipython3",
   "version": "3.11.7"
  }
 },
 "nbformat": 4,
 "nbformat_minor": 5
}

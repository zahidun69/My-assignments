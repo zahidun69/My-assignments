{
 "cells": [
  {
   "cell_type": "code",
   "execution_count": 1,
   "id": "dd865695-b9b0-4141-9569-1f32eecf3735",
   "metadata": {},
   "outputs": [],
   "source": [
    "#excercise-1\n",
    "#define a function which checks the given number is greater than 1 or not\n",
    "def is_prime(num):\n",
    "  if num <= 1:\n",
    "    return False\n",
    "  for i in range(2, int(num**0.5) + 1):\n",
    "    if num % i == 0:\n",
    "      return False\n",
    "  return True"
   ]
  },
  {
   "cell_type": "code",
   "execution_count": 2,
   "id": "a6839a52-94c3-4a3b-9b2a-f6fc8a41395a",
   "metadata": {},
   "outputs": [
    {
     "name": "stdin",
     "output_type": "stream",
     "text": [
      "Enter a number:  30\n"
     ]
    }
   ],
   "source": [
    "# Get input from the user\n",
    "number= int(input(\"Enter a number: \"))\n"
   ]
  },
  {
   "cell_type": "code",
   "execution_count": 3,
   "id": "7c6fd3e7-b849-4dd9-9698-78e59a6fc7ac",
   "metadata": {},
   "outputs": [
    {
     "name": "stdout",
     "output_type": "stream",
     "text": [
      "30 is not a prime number.\n"
     ]
    }
   ],
   "source": [
    "# Check if the number is prime\n",
    "if is_prime(number):\n",
    "  print(f\"{number} is a prime number.\")\n",
    "else:\n",
    "  print(f\"{number} is not a prime number.\")"
   ]
  },
  {
   "cell_type": "code",
   "execution_count": 19,
   "id": "1fde85c1-e72e-4ad9-90c4-3b52a7ce1aff",
   "metadata": {},
   "outputs": [
    {
     "name": "stdin",
     "output_type": "stream",
     "text": [
      "what is the product of74and67? 34545\n"
     ]
    },
    {
     "name": "stdout",
     "output_type": "stream",
     "text": [
      "sorry,your answer is wrong.\n",
      "The correct anwer is \n",
      "4958\n"
     ]
    }
   ],
   "source": [
    "#exercise-2:product of random variables\n",
    "import random\n",
    "\n",
    "# Generate two random numbers\n",
    "num1 = random.randint(1, 100)  # Adjust the range as needed\n",
    "num2 = random.randint(1, 100)  # Adjust the range as needed\n",
    "#calcualting the product\n",
    "product=num1*num2\n",
    "#asking user for answer\n",
    "user_ans= int(input(\"what is the product of\"+ str(num1) +\"and\"+str(num2)+\"?\"))\n",
    "#checking user answer and display message\n",
    "if user_ans==product:\n",
    "    print(\"congratulations,right answer.\")\n",
    "else:\n",
    "    print(\"sorry,your answer is wrong.\", \"The correct anwer is \",product,sep=\"\\n\")\n",
    "\n"
   ]
  },
  {
   "cell_type": "code",
   "execution_count": 3,
   "id": "b7844353-96f7-402c-bc7f-f07d608067ba",
   "metadata": {},
   "outputs": [
    {
     "name": "stdout",
     "output_type": "stream",
     "text": [
      "The square of 101 is : 10201\n",
      "The square of 103 is : 10609\n",
      "The square of 105 is : 11025\n",
      "The square of 107 is : 11449\n",
      "The square of 109 is : 11881\n",
      "The square of 111 is : 12321\n",
      "The square of 113 is : 12769\n",
      "The square of 115 is : 13225\n",
      "The square of 117 is : 13689\n",
      "The square of 119 is : 14161\n",
      "The square of 121 is : 14641\n",
      "The square of 123 is : 15129\n",
      "The square of 125 is : 15625\n",
      "The square of 127 is : 16129\n",
      "The square of 129 is : 16641\n",
      "The square of 131 is : 17161\n",
      "The square of 133 is : 17689\n",
      "The square of 135 is : 18225\n",
      "The square of 137 is : 18769\n",
      "The square of 139 is : 19321\n",
      "The square of 141 is : 19881\n",
      "The square of 143 is : 20449\n",
      "The square of 145 is : 21025\n",
      "The square of 147 is : 21609\n",
      "The square of 149 is : 22201\n",
      "The square of 151 is : 22801\n",
      "The square of 153 is : 23409\n",
      "The square of 155 is : 24025\n",
      "The square of 157 is : 24649\n",
      "The square of 159 is : 25281\n",
      "The square of 161 is : 25921\n",
      "The square of 163 is : 26569\n",
      "The square of 165 is : 27225\n",
      "The square of 167 is : 27889\n",
      "The square of 169 is : 28561\n",
      "The square of 171 is : 29241\n",
      "The square of 173 is : 29929\n",
      "The square of 175 is : 30625\n",
      "The square of 177 is : 31329\n",
      "The square of 179 is : 32041\n",
      "The square of 181 is : 32761\n",
      "The square of 183 is : 33489\n",
      "The square of 185 is : 34225\n",
      "The square of 187 is : 34969\n",
      "The square of 189 is : 35721\n",
      "The square of 191 is : 36481\n",
      "The square of 193 is : 37249\n",
      "The square of 195 is : 38025\n",
      "The square of 197 is : 38809\n",
      "The square of 199 is : 39601\n"
     ]
    }
   ],
   "source": [
    "#excercise-3:Squares of Odd Numbers:\n",
    "#loop for  taking range\n",
    "for i in range(100,200):\n",
    "#checking given number is odd or not\n",
    "    if i%2!=0:\n",
    "        square=i*i\n",
    "        print(f\"The square of {i} is :\",square)"
   ]
  },
  {
   "cell_type": "code",
   "execution_count": 7,
   "id": "c807c98e-7322-4eeb-8337-0307e337b8b4",
   "metadata": {},
   "outputs": [
    {
     "name": "stdout",
     "output_type": "stream",
     "text": [
      "This: 1\n",
      "This: 2\n",
      "is: 1\n",
      "a: 1\n",
      "sample: 1\n",
      "text: 1\n"
     ]
    }
   ],
   "source": [
    "#Exercise-4: Word counter\n",
    "\n",
    "text =\"This is a sample text. This text will be used to demonstrate the word counter.\"\n",
    "a=0\n",
    "b=0\n",
    "c=0\n",
    "d=0\n",
    "e=0\n",
    "#spliting text with spaces\n",
    "words=text.split()\n",
    "#using for loop to count \"this\" word\n",
    "for i in words:\n",
    "    if i==\"This\":\n",
    "        a+=1\n",
    "        print(\"This:\",a)\n",
    "#using for loop to count \"is\" word        \n",
    "for i in words:\n",
    "    if i==\"is\":\n",
    "        b+=1\n",
    "        print(\"is:\",b)\n",
    "#using for loop to count \"a\" word        \n",
    "for i in words:\n",
    "    if i==\"a\":\n",
    "        c+=1\n",
    "        print(\"a:\",c)\n",
    "#using for loop to count \"sample\" word        \n",
    "for i in words:\n",
    "    if i==\"sample\":\n",
    "        d+=1\n",
    "        print(\"sample:\",d)\n",
    "#using for loop to count \"text\" word        \n",
    "for i in words:\n",
    "    if i==\"text\":\n",
    "        e+=1\n",
    "        print(\"text:\",e)        "
   ]
  },
  {
   "cell_type": "code",
   "execution_count": 8,
   "id": "260c3a56-fa49-4aae-b3f6-3759b886c6ee",
   "metadata": {},
   "outputs": [
    {
     "name": "stdout",
     "output_type": "stream",
     "text": [
      "racecar True\n"
     ]
    }
   ],
   "source": [
    "#exercise-5:Check for Palindrome\n",
    "#defining function for palindrome variable\n",
    "def is_palindrome(var):\n",
    "    return str(var) == str(var)[::-1]\n",
    "# Test the function\n",
    "var = \"racecar\"  \n",
    "if is_palindrome(var):\n",
    "    print(var, \"True\")\n",
    "else:\n",
    "    print(var, \"false\")\n",
    "\n"
   ]
  },
  {
   "cell_type": "code",
   "execution_count": null,
   "id": "c329daf6-e2b3-4589-84d6-365c7eebba24",
   "metadata": {},
   "outputs": [],
   "source": []
  }
 ],
 "metadata": {
  "kernelspec": {
   "display_name": "Python 3 (ipykernel)",
   "language": "python",
   "name": "python3"
  },
  "language_info": {
   "codemirror_mode": {
    "name": "ipython",
    "version": 3
   },
   "file_extension": ".py",
   "mimetype": "text/x-python",
   "name": "python",
   "nbconvert_exporter": "python",
   "pygments_lexer": "ipython3",
   "version": "3.11.7"
  }
 },
 "nbformat": 4,
 "nbformat_minor": 5
}
